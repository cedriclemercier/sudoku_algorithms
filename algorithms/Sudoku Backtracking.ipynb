{
 "cells": [
  {
   "cell_type": "code",
   "execution_count": 1,
   "id": "87908cb7-5098-4d4c-ac1e-556c8692d570",
   "metadata": {},
   "outputs": [],
   "source": [
    "import numpy as np\n",
    "import time\n",
    "import timeit"
   ]
  },
  {
   "cell_type": "code",
   "execution_count": 2,
   "id": "1a7c1356-6061-4f29-8ee5-71bcc08768e6",
   "metadata": {},
   "outputs": [],
   "source": [
    "class SudokuBacktrack():\n",
    "    def __init__(self, board):\n",
    "        self.board = board\n",
    "    \n",
    "    def _findEmptyCell(self):\n",
    "        for row in range(9):\n",
    "            for col in range(9):\n",
    "                if self.board[row][col] == 0: # Empty cell found\n",
    "                    return row, col\n",
    "        \n",
    "        return None, None\n",
    "    \n",
    "    def _validateGuess(self, row, col, guess):\n",
    "        # Check for duplicate number in rows and columns\n",
    "        for i in range(0, 9):\n",
    "            if self.board[row][i] == guess or guess == self.board[i][col]:\n",
    "                return False\n",
    "            \n",
    "        # Check for duplicate number in current box\n",
    "        rowStart = (row // 3) * 3\n",
    "        colStart = (col // 3) * 3\n",
    "        for r in range(rowStart, rowStart + 3):\n",
    "            for c in range(colStart, colStart + 3):\n",
    "                if self.board[r][c] == guess:\n",
    "                    return False\n",
    "            \n",
    "        return True\n",
    "    \n",
    "    def _solve(self):\n",
    "        # Find empty cell\n",
    "        row, col = self._findEmptyCell()\n",
    "        \n",
    "        # If empty cell is not found, it means that the puzzle is solved\n",
    "        if row == None:\n",
    "            return True\n",
    "        \n",
    "        # Guess number from 1 to 9\n",
    "        for guess in range(1, 10):\n",
    "            # Validation: check if number can be inserted \n",
    "            if self._validateGuess(row, col, guess):\n",
    "                self.board[row][col] = guess # if yes, put number in the cell\n",
    "                flag = self._solve() # Solve for another empty cell\n",
    "                if flag: # if solution is already found\n",
    "                    return flag\n",
    "                \n",
    "                self.board[row][col] = 0 # Remove to try another guess for possible solution\n",
    "        \n",
    "        # If the current combination is not working, backtrack and try another number \n",
    "        return False\n",
    "    \n",
    "    def solveSudoku(self,):\n",
    "        flag       = self._solve()\n",
    "        \n",
    "        if flag:\n",
    "            print(\"Solved Sudoku Grid:\")\n",
    "            print(np.matrix(self.board))\n",
    "        else:\n",
    "            print(\"Not a valid Sudoku puzzle\")"
   ]
  },
  {
   "cell_type": "code",
   "execution_count": 3,
   "id": "00a244ec-4c7d-4b3b-8e14-9562fc7e2404",
   "metadata": {},
   "outputs": [],
   "source": [
    "board = [[3, 9, 0,   0, 5, 0,   0, 0, 0],\n",
    "         [0, 0, 0,   2, 0, 0,   0, 0, 5],\n",
    "         [0, 0, 0,   7, 1, 9,   0, 8, 0],\n",
    "\n",
    "         [0, 5, 0,   0, 6, 8,   0, 0, 0],\n",
    "         [2, 0, 6,   0, 0, 3,   0, 0, 0],\n",
    "         [0, 0, 0,   0, 0, 0,   0, 0, 4],\n",
    "\n",
    "         [5, 0, 0,   0, 0, 0,   0, 0, 0],\n",
    "         [6, 7, 0,   1, 0, 5,   0, 4, 0],\n",
    "         [1, 0, 9,   0, 0, 0,   2, 0, 0]]\n",
    "\n",
    "board2 = [[2, 0, 0,   0, 8, 0,   3, 0, 0],\n",
    "          [0, 6, 0,   0, 7, 0,   0, 8, 4],\n",
    "          [0, 3, 0,   5, 0, 0,   2, 0, 9],\n",
    "\n",
    "          [0, 0, 0,   1, 0, 5,   4, 0, 8],\n",
    "          [0, 0, 0,   0, 0, 0,   0, 0, 0],\n",
    "          [4, 0, 2,   7, 0, 6,   0, 0, 0],\n",
    "\n",
    "          [3, 0, 1,   0, 0, 7,   0, 4, 0],\n",
    "          [7, 2, 0,   0, 4, 0,   0, 6, 0],\n",
    "          [0, 0, 4,   0, 1, 0,   0, 0, 3]]\n",
    "\n",
    "board3 = [[4, 0, 8,   5, 7, 1,   9, 0, 6],\n",
    "          [2, 7, 6,   8, 0, 9,   3, 0, 5],\n",
    "          [0, 1, 0,   0, 0, 0,   4, 0, 7],\n",
    "\n",
    "          [0, 0, 0,   4, 0, 8,   0, 6, 1],\n",
    "          [0, 2, 0,   0, 0, 0,   0, 0, 8],\n",
    "          [6, 0, 0,   7, 3, 0,   0, 9, 0],\n",
    "\n",
    "          [0, 0, 0,   0, 0, 3,   0, 7, 0],\n",
    "          [8, 0, 3,   0, 0, 0,   0, 0, 9],\n",
    "          [0, 9, 2,   1, 8, 0,   0, 0, 0]]"
   ]
  },
  {
   "cell_type": "code",
   "execution_count": 4,
   "id": "8db401f5-4868-4834-8213-0d733bdd1412",
   "metadata": {},
   "outputs": [],
   "source": [
    "import copy"
   ]
  },
  {
   "cell_type": "code",
   "execution_count": 5,
   "id": "d78ca461-d98d-412f-8adf-3c554740ec34",
   "metadata": {},
   "outputs": [
    {
     "name": "stdout",
     "output_type": "stream",
     "text": [
      "Solved Sudoku Grid:\n",
      "[[3 9 1 8 5 6 4 2 7]\n",
      " [8 6 7 2 3 4 9 1 5]\n",
      " [4 2 5 7 1 9 6 8 3]\n",
      " [7 5 4 9 6 8 1 3 2]\n",
      " [2 1 6 4 7 3 5 9 8]\n",
      " [9 3 8 5 2 1 7 6 4]\n",
      " [5 4 3 6 9 2 8 7 1]\n",
      " [6 7 2 1 8 5 3 4 9]\n",
      " [1 8 9 3 4 7 2 5 6]]\n",
      "Time taken: 0.031\n"
     ]
    }
   ],
   "source": [
    "start_time = time.monotonic()\n",
    "\n",
    "sudoku = SudokuBacktrack(copy.deepcopy(board))\n",
    "sudoku.solveSudoku()\n",
    "\n",
    "total_time = time.monotonic() - start_time\n",
    "print(\"Time taken:\", round(total_time, 5))"
   ]
  },
  {
   "cell_type": "code",
   "execution_count": 6,
   "id": "70dd2cbd-3c8e-47ae-97f1-c2ab527f19a1",
   "metadata": {},
   "outputs": [
    {
     "name": "stdout",
     "output_type": "stream",
     "text": [
      "Solved Sudoku Grid:\n",
      "[[2 4 5 9 8 1 3 7 6]\n",
      " [1 6 9 2 7 3 5 8 4]\n",
      " [8 3 7 5 6 4 2 1 9]\n",
      " [9 7 6 1 2 5 4 3 8]\n",
      " [5 1 3 4 9 8 6 2 7]\n",
      " [4 8 2 7 3 6 9 5 1]\n",
      " [3 9 1 6 5 7 8 4 2]\n",
      " [7 2 8 3 4 9 1 6 5]\n",
      " [6 5 4 8 1 2 7 9 3]]\n",
      "Time taken: 0.0\n"
     ]
    }
   ],
   "source": [
    "start_time = time.monotonic()\n",
    "\n",
    "sudoku = SudokuBacktrack(copy.deepcopy(board2))\n",
    "sudoku.solveSudoku()\n",
    "\n",
    "total_time = time.monotonic() - start_time\n",
    "print(\"Time taken:\", round(total_time, 5))"
   ]
  },
  {
   "cell_type": "code",
   "execution_count": 7,
   "id": "dbd9d7ed-1f68-43d4-9326-2f9bbe6bc849",
   "metadata": {},
   "outputs": [
    {
     "name": "stdout",
     "output_type": "stream",
     "text": [
      "Solved Sudoku Grid:\n",
      "[[4 3 8 5 7 1 9 2 6]\n",
      " [2 7 6 8 4 9 3 1 5]\n",
      " [5 1 9 3 2 6 4 8 7]\n",
      " [3 5 7 4 9 8 2 6 1]\n",
      " [9 2 4 6 1 5 7 3 8]\n",
      " [6 8 1 7 3 2 5 9 4]\n",
      " [1 4 5 9 6 3 8 7 2]\n",
      " [8 6 3 2 5 7 1 4 9]\n",
      " [7 9 2 1 8 4 6 5 3]]\n",
      "Time taken: 0.0\n"
     ]
    }
   ],
   "source": [
    "start_time = time.monotonic()\n",
    "\n",
    "sudoku = SudokuBacktrack(copy.deepcopy(board3))\n",
    "sudoku.solveSudoku()\n",
    "\n",
    "total_time = time.monotonic() - start_time\n",
    "print(\"Time taken:\", round(total_time, 5))"
   ]
  },
  {
   "cell_type": "markdown",
   "id": "bb8a4318-16b1-4ce9-a4cf-4fbbe8966d8e",
   "metadata": {},
   "source": [
    "### Measuring Time"
   ]
  },
  {
   "cell_type": "code",
   "execution_count": 20,
   "id": "10b617d0-8e7a-422d-90a8-7c2a4f7bf551",
   "metadata": {},
   "outputs": [
    {
     "name": "stdout",
     "output_type": "stream",
     "text": [
      "[229.81331169999976]\n"
     ]
    }
   ],
   "source": [
    "class SudokuBacktrack():\n",
    "    def __init__(self, board):\n",
    "        self.board = board\n",
    "    \n",
    "    def _findEmptyCell(self):\n",
    "        for row in range(9):\n",
    "            for col in range(9):\n",
    "                if self.board[row][col] == 0: # Empty cell found\n",
    "                    return row, col\n",
    "        \n",
    "        return None, None\n",
    "    \n",
    "    def _validateGuess(self, row, col, guess):\n",
    "        # Check for duplicate number in rows and columns\n",
    "        for i in range(0, 9):\n",
    "            if self.board[row][i] == guess or guess == self.board[i][col]:\n",
    "                return False\n",
    "            \n",
    "        # Check for duplicate number in current box\n",
    "        rowStart = (row // 3) * 3\n",
    "        colStart = (col // 3) * 3\n",
    "        for r in range(rowStart, rowStart + 3):\n",
    "            for c in range(colStart, colStart + 3):\n",
    "                if self.board[r][c] == guess:\n",
    "                    return False\n",
    "            \n",
    "        return True\n",
    "    \n",
    "    def _solve(self):\n",
    "        # Find empty cell\n",
    "        row, col = self._findEmptyCell()\n",
    "        \n",
    "        # If empty cell is not found, it means that the puzzle is solved\n",
    "        if row == None:\n",
    "            return True\n",
    "        \n",
    "        # Guess number from 1 to 9\n",
    "        for guess in range(1, 10):\n",
    "            # Validation: check if number can be inserted \n",
    "            if self._validateGuess(row, col, guess):\n",
    "                self.board[row][col] = guess # if yes, put number in the cell\n",
    "                flag = self._solve() # Solve for another empty cell\n",
    "                if flag: # if solution is already found\n",
    "                    return flag\n",
    "                \n",
    "                self.board[row][col] = 0 # Remove to try another guess for possible solution\n",
    "        \n",
    "        # If the current combination is not working, backtrack and try another number \n",
    "        return False\n",
    "    \n",
    "    def solveSudoku(self,):\n",
    "        self._solve()\n",
    "        \n",
    "setup = '''\n",
    "import numpy as np\n",
    "import copy\n",
    "from __main__ import SudokuBacktrack, board\n",
    "'''\n",
    "code = '''\n",
    "sudoku = SudokuBacktrack(copy.deepcopy(board))\n",
    "sudoku.solveSudoku()\n",
    "'''\n",
    "\n",
    "executionTime = timeit.repeat(setup = setup,\n",
    "                              stmt = code,\n",
    "                              repeat = 1,\n",
    "                              number = 10000)\n",
    "print(executionTime)"
   ]
  },
  {
   "cell_type": "code",
   "execution_count": 35,
   "id": "57622f75-9b61-47a2-8823-ec66e1c3f14f",
   "metadata": {},
   "outputs": [
    {
     "name": "stdout",
     "output_type": "stream",
     "text": [
      "[45.43086129999983]\n"
     ]
    }
   ],
   "source": [
    "setup = '''\n",
    "import numpy as np\n",
    "import copy\n",
    "from __main__ import SudokuBacktrack, board2\n",
    "'''\n",
    "code = '''\n",
    "sudoku = SudokuBacktrack(copy.deepcopy(board2))\n",
    "sudoku.solveSudoku()\n",
    "'''\n",
    "\n",
    "executionTime = timeit.repeat(setup = setup,\n",
    "                              stmt = code,\n",
    "                              repeat = 1,\n",
    "                              number = 10000)\n",
    "print(executionTime)"
   ]
  },
  {
   "cell_type": "code",
   "execution_count": 36,
   "id": "c580533d-9859-405e-8c0a-c0606fdb7274",
   "metadata": {},
   "outputs": [
    {
     "name": "stdout",
     "output_type": "stream",
     "text": [
      "[9.73802650000016]\n"
     ]
    }
   ],
   "source": [
    "setup = '''\n",
    "import numpy as np\n",
    "import copy\n",
    "from __main__ import SudokuBacktrack, board3\n",
    "'''\n",
    "code = '''\n",
    "sudoku = SudokuBacktrack(copy.deepcopy(board3))\n",
    "sudoku.solveSudoku()\n",
    "'''\n",
    "\n",
    "executionTime = timeit.repeat(setup = setup,\n",
    "                              stmt = code,\n",
    "                              repeat = 1,\n",
    "                              number = 10000)\n",
    "print(executionTime)"
   ]
  },
  {
   "cell_type": "markdown",
   "id": "8f1f1819-88c0-4d7e-8c1b-0be31e260c3a",
   "metadata": {},
   "source": [
    "### Optimization 1: Improve cell empty search and validate numbers faster "
   ]
  },
  {
   "cell_type": "code",
   "execution_count": 22,
   "id": "99813937-6d81-4125-a0eb-e9646604a4df",
   "metadata": {},
   "outputs": [],
   "source": [
    "class OptimizedSudokuBacktrack():\n",
    "    def __init__(self, board):\n",
    "        self.board           = board\n",
    "        self.emptyCellsIndex = 0\n",
    "        self.emptyCells      =  []\n",
    "        self.rowVisitCache   = [[False for i in range(9)] for j in range(9)]\n",
    "        self.colVisitCache   = [[False for i in range(9)] for j in range(9)]\n",
    "        self.blockVisitCache = [[False for i in range(9)] for j in range(9)]\n",
    "    \n",
    "    def _findAllEmptyCell(self):\n",
    "        for row in range(9):\n",
    "            for col in range(9):\n",
    "                if self.board[row][col] == 0: # Empty cell found\n",
    "                    self.emptyCells.append((row, col))\n",
    "        \n",
    "        return None, None\n",
    "    \n",
    "    def _scanBoard(self):\n",
    "        for row in range(0, 9):\n",
    "            for col in range(0, 9):\n",
    "                if self.board[row][col] == 0:\n",
    "                    continue\n",
    "                number = self.board[row][col]\n",
    "                blockNumber = (row // 3) * 3 + col // 3\n",
    "                self.rowVisitCache[row][number - 1]           = True\n",
    "                self.colVisitCache[col][number - 1]           = True\n",
    "                self.blockVisitCache[blockNumber][number - 1] = True\n",
    "    \n",
    "    def _solve(self):\n",
    "        if self.emptyCellsIndex == len(self.emptyCells):\n",
    "            return True\n",
    "        \n",
    "        row, col = self.emptyCells[self.emptyCellsIndex]\n",
    "        \n",
    "        # Guess number from 1 to 9\n",
    "        for guess in range(1, 10):\n",
    "            blockNumber = (row // 3) * 3 + col // 3\n",
    "            \n",
    "            # Validation: check if number can be inserted \n",
    "            if not (self.rowVisitCache[row][guess - 1] or self.colVisitCache[col][guess - 1] \\\n",
    "                    or self.blockVisitCache[blockNumber][guess - 1]):\n",
    "                # Mark number visited on that row, col, or block\n",
    "                self.rowVisitCache[row][guess - 1]           = True\n",
    "                self.colVisitCache[col][guess - 1]           = True\n",
    "                self.blockVisitCache[blockNumber][guess - 1] = True\n",
    "                \n",
    "                self.emptyCellsIndex += 1\n",
    "                self.board[row][col] = guess # if yes, put number in the cell\n",
    "                flag = self._solve() # Solve for another empty cell\n",
    "                if flag: # if solution is already found\n",
    "                    return flag\n",
    "                \n",
    "                self.board[row][col] = 0 # Remove to try another guess for possible solution\n",
    "                # Unmark number visited on that row, col, or block\n",
    "                self.rowVisitCache[row][guess - 1]           = False\n",
    "                self.colVisitCache[col][guess - 1]           = False\n",
    "                self.blockVisitCache[blockNumber][guess - 1] = False\n",
    "                self.emptyCellsIndex -= 1\n",
    "        \n",
    "        # If the current combination is not working, backtrack and try another number \n",
    "        return False\n",
    "    \n",
    "    def solveSudoku(self,):\n",
    "        self._scanBoard()\n",
    "        self._findAllEmptyCell()\n",
    "        flag =self._solve()\n",
    "        \n",
    "        if flag:\n",
    "            print(\"Solved Sudoku Grid:\")\n",
    "            print(np.matrix(self.board))\n",
    "        else:\n",
    "            print(\"Not a valid Sudoku puzzle\")"
   ]
  },
  {
   "cell_type": "code",
   "execution_count": 23,
   "id": "4a0f95f1-c4e3-47c5-816f-7640b6e07461",
   "metadata": {},
   "outputs": [
    {
     "name": "stdout",
     "output_type": "stream",
     "text": [
      "Solved Sudoku Grid:\n",
      "[[3 9 1 8 5 6 4 2 7]\n",
      " [8 6 7 2 3 4 9 1 5]\n",
      " [4 2 5 7 1 9 6 8 3]\n",
      " [7 5 4 9 6 8 1 3 2]\n",
      " [2 1 6 4 7 3 5 9 8]\n",
      " [9 3 8 5 2 1 7 6 4]\n",
      " [5 4 3 6 9 2 8 7 1]\n",
      " [6 7 2 1 8 5 3 4 9]\n",
      " [1 8 9 3 4 7 2 5 6]]\n",
      "Time taken: 0.0\n"
     ]
    }
   ],
   "source": [
    "start_time = time.monotonic()\n",
    "\n",
    "sudoku = OptimizedSudokuBacktrack(copy.deepcopy(board))\n",
    "sudoku.solveSudoku()\n",
    "\n",
    "total_time = time.monotonic() - start_time\n",
    "print(\"Time taken:\", round(total_time, 5))"
   ]
  },
  {
   "cell_type": "code",
   "execution_count": 37,
   "id": "631d3705-532a-4a5a-8752-d81dfc5242e8",
   "metadata": {},
   "outputs": [
    {
     "name": "stdout",
     "output_type": "stream",
     "text": [
      "Solved Sudoku Grid:\n",
      "[[2 4 5 9 8 1 3 7 6]\n",
      " [1 6 9 2 7 3 5 8 4]\n",
      " [8 3 7 5 6 4 2 1 9]\n",
      " [9 7 6 1 2 5 4 3 8]\n",
      " [5 1 3 4 9 8 6 2 7]\n",
      " [4 8 2 7 3 6 9 5 1]\n",
      " [3 9 1 6 5 7 8 4 2]\n",
      " [7 2 8 3 4 9 1 6 5]\n",
      " [6 5 4 8 1 2 7 9 3]]\n",
      "Time taken: 0.016\n"
     ]
    }
   ],
   "source": [
    "start_time = time.monotonic()\n",
    "\n",
    "sudoku = OptimizedSudokuBacktrack(copy.deepcopy(board2))\n",
    "sudoku.solveSudoku()\n",
    "\n",
    "total_time = time.monotonic() - start_time\n",
    "print(\"Time taken:\", round(total_time, 5))"
   ]
  },
  {
   "cell_type": "code",
   "execution_count": 38,
   "id": "0a1474da-741c-4604-9d8e-06f7abbe9f5e",
   "metadata": {},
   "outputs": [
    {
     "name": "stdout",
     "output_type": "stream",
     "text": [
      "Solved Sudoku Grid:\n",
      "[[3 9 1 8 5 6 4 2 7]\n",
      " [8 6 7 2 3 4 9 1 5]\n",
      " [4 2 5 7 1 9 6 8 3]\n",
      " [7 5 4 9 6 8 1 3 2]\n",
      " [2 1 6 4 7 3 5 9 8]\n",
      " [9 3 8 5 2 1 7 6 4]\n",
      " [5 4 3 6 9 2 8 7 1]\n",
      " [6 7 2 1 8 5 3 4 9]\n",
      " [1 8 9 3 4 7 2 5 6]]\n",
      "Time taken: 0.0\n"
     ]
    }
   ],
   "source": [
    "start_time = time.monotonic()\n",
    "\n",
    "sudoku = OptimizedSudokuBacktrack(copy.deepcopy(board))\n",
    "sudoku.solveSudoku()\n",
    "\n",
    "total_time = time.monotonic() - start_time\n",
    "print(\"Time taken:\", round(total_time, 5))"
   ]
  },
  {
   "cell_type": "code",
   "execution_count": null,
   "id": "241b4211-e128-4b1b-a78b-0b2799a135ea",
   "metadata": {},
   "outputs": [],
   "source": []
  },
  {
   "cell_type": "markdown",
   "id": "3fa9c0d6-1471-43ca-bac1-a304cbb6c211",
   "metadata": {},
   "source": [
    "### Measuring Time"
   ]
  },
  {
   "cell_type": "code",
   "execution_count": 20,
   "id": "1070d912-9791-4eb9-bb34-95b8d99d559e",
   "metadata": {},
   "outputs": [],
   "source": [
    "class OptimizedSudokuBacktrack():\n",
    "    def __init__(self, board):\n",
    "        self.board           = board\n",
    "        self.emptyCellsIndex = 0\n",
    "        self.emptyCells      =  []\n",
    "        self.rowVisitCache   = [[False for i in range(9)] for j in range(9)]\n",
    "        self.colVisitCache   = [[False for i in range(9)] for j in range(9)]\n",
    "        self.blockVisitCache = [[False for i in range(9)] for j in range(9)]\n",
    "    \n",
    "    def _findAllEmptyCell(self):\n",
    "        for row in range(9):\n",
    "            for col in range(9):\n",
    "                if self.board[row][col] == 0: # Empty cell found\n",
    "                    self.emptyCells.append((row, col))\n",
    "        \n",
    "        return None, None\n",
    "    \n",
    "    def _scanBoard(self):\n",
    "        for row in range(0, 9):\n",
    "            for col in range(0, 9):\n",
    "                if self.board[row][col] == 0:\n",
    "                    continue\n",
    "                number = self.board[row][col]\n",
    "                blockNumber = (row // 3) * 3 + col // 3\n",
    "                self.rowVisitCache[row][number - 1]           = True\n",
    "                self.colVisitCache[col][number - 1]           = True\n",
    "                self.blockVisitCache[blockNumber][number - 1] = True\n",
    "    \n",
    "    def _solve(self):\n",
    "        if self.emptyCellsIndex == len(self.emptyCells):\n",
    "            return True\n",
    "        \n",
    "        row, col = self.emptyCells[self.emptyCellsIndex]\n",
    "        \n",
    "        # Guess number from 1 to 9\n",
    "        for guess in range(1, 10):\n",
    "            blockNumber = (row // 3) * 3 + col // 3\n",
    "            \n",
    "            # Validation: check if number can be inserted \n",
    "            if not (self.rowVisitCache[row][guess - 1] or self.colVisitCache[col][guess - 1] \\\n",
    "                    or self.blockVisitCache[blockNumber][guess - 1]):\n",
    "                # Mark number visited on that row, col, or block\n",
    "                self.rowVisitCache[row][guess - 1]           = True\n",
    "                self.colVisitCache[col][guess - 1]           = True\n",
    "                self.blockVisitCache[blockNumber][guess - 1] = True\n",
    "                \n",
    "                self.emptyCellsIndex += 1\n",
    "                self.board[row][col] = guess # if yes, put number in the cell\n",
    "                flag = self._solve() # Solve for another empty cell\n",
    "                if flag: # if solution is already found\n",
    "                    return flag\n",
    "                \n",
    "                self.board[row][col] = 0 # Remove to try another guess for possible solution\n",
    "                # Unmark number visited on that row, col, or block\n",
    "                self.rowVisitCache[row][guess - 1]           = False\n",
    "                self.colVisitCache[col][guess - 1]           = False\n",
    "                self.blockVisitCache[blockNumber][guess - 1] = False\n",
    "                self.emptyCellsIndex -= 1\n",
    "        \n",
    "        # If the current combination is not working, backtrack and try another number \n",
    "        return False\n",
    "    \n",
    "    def solveSudoku(self,):\n",
    "        self._scanBoard()\n",
    "        self._findAllEmptyCell()\n",
    "        self._solve()"
   ]
  },
  {
   "cell_type": "code",
   "execution_count": 21,
   "id": "87f8fa3e-88e8-4ff5-8a8b-2b3fb5acc9ad",
   "metadata": {},
   "outputs": [
    {
     "name": "stdout",
     "output_type": "stream",
     "text": [
      "[56.16806759999997]\n"
     ]
    }
   ],
   "source": [
    "setup = '''\n",
    "import numpy as np\n",
    "import copy\n",
    "from __main__ import OptimizedSudokuBacktrack, board\n",
    "'''\n",
    "code = '''\n",
    "sudoku = OptimizedSudokuBacktrack(copy.deepcopy(board))\n",
    "sudoku.solveSudoku()\n",
    "'''\n",
    "\n",
    "executionTime = timeit.repeat(setup = setup,\n",
    "                              stmt = code,\n",
    "                              repeat = 1,\n",
    "                              number = 10000)\n",
    "print(executionTime)"
   ]
  },
  {
   "cell_type": "code",
   "execution_count": 12,
   "id": "2c2e6a22-d9b9-4d7d-85ea-5276acc896cc",
   "metadata": {},
   "outputs": [
    {
     "name": "stdout",
     "output_type": "stream",
     "text": [
      "[9.487914899999964]\n"
     ]
    }
   ],
   "source": [
    "setup = '''\n",
    "import numpy as np\n",
    "import copy\n",
    "from __main__ import OptimizedSudokuBacktrack, board2\n",
    "'''\n",
    "code = '''\n",
    "sudoku = OptimizedSudokuBacktrack(copy.deepcopy(board2))\n",
    "sudoku.solveSudoku()\n",
    "'''\n",
    "\n",
    "executionTime = timeit.repeat(setup = setup,\n",
    "                              stmt = code,\n",
    "                              repeat = 1,\n",
    "                              number = 10000)\n",
    "print(executionTime)"
   ]
  },
  {
   "cell_type": "code",
   "execution_count": 13,
   "id": "d860f145-bae0-4156-83a6-23a783aeecc7",
   "metadata": {},
   "outputs": [
    {
     "name": "stdout",
     "output_type": "stream",
     "text": [
      "[1.9666988000000174]\n"
     ]
    }
   ],
   "source": [
    "setup = '''\n",
    "import numpy as np\n",
    "import copy\n",
    "from __main__ import OptimizedSudokuBacktrack, board3\n",
    "'''\n",
    "code = '''\n",
    "sudoku = OptimizedSudokuBacktrack(copy.deepcopy(board3))\n",
    "sudoku.solveSudoku()\n",
    "'''\n",
    "\n",
    "executionTime = timeit.repeat(setup = setup,\n",
    "                              stmt = code,\n",
    "                              repeat = 1,\n",
    "                              number = 10000)\n",
    "print(executionTime)"
   ]
  },
  {
   "cell_type": "markdown",
   "id": "776ca905-139c-4a0e-8e45-da83c1a6c67d",
   "metadata": {},
   "source": [
    "### Optimization 2: Iterate over valid numbers only "
   ]
  },
  {
   "cell_type": "code",
   "execution_count": 39,
   "id": "974725a4-5a68-4f53-838c-6ef4345cac80",
   "metadata": {},
   "outputs": [],
   "source": [
    "class OptimizedSudokuBacktrack2():\n",
    "    def __init__(self, board):\n",
    "        self.board           = board\n",
    "        self.emptyCellsIndex = 0\n",
    "        self.emptyCells      =  []\n",
    "        self.rowVisitCache   = [[False for i in range(9)] for j in range(9)]\n",
    "        self.colVisitCache   = [[False for i in range(9)] for j in range(9)]\n",
    "        self.blockVisitCache = [[False for i in range(9)] for j in range(9)]\n",
    "        self.allowedNumbers  = {}\n",
    "    \n",
    "    def _findAllEmptyCell(self):\n",
    "        for row in range(9):\n",
    "            for col in range(9):\n",
    "                if self.board[row][col] == 0: # Empty cell found\n",
    "                    self.emptyCells.append((row, col))\n",
    "        return None, None\n",
    "    \n",
    "    def _finalAllowedNumbers(self, row, col):\n",
    "        allowedNumberList = []\n",
    "        for number in range(1, 10):\n",
    "            found = False\n",
    "            \n",
    "            # Check for number in rows and columns\n",
    "            for i in range(0, 9):\n",
    "                if self.board[row][i] == number or number == self.board[i][col]:\n",
    "                    found = True\n",
    "            \n",
    "            if not found:\n",
    "                # Check for number in current box\n",
    "                rowStart = (row // 3) * 3\n",
    "                colStart = (col // 3) * 3\n",
    "                for r in range(rowStart, rowStart + 3):\n",
    "                    for c in range(colStart, colStart + 3):\n",
    "                        if self.board[r][c] == number:\n",
    "                            found = True\n",
    "                            break\n",
    "                    if found:\n",
    "                        break\n",
    "\n",
    "            if not found:\n",
    "                allowedNumberList.append(number)\n",
    "        return allowedNumberList\n",
    "            \n",
    "    \n",
    "    def _scanBoard(self):\n",
    "        for row in range(0, 9):\n",
    "            for col in range(0, 9):\n",
    "                if self.board[row][col] == 0:\n",
    "                    self.allowedNumbers[(row, col)] = self._finalAllowedNumbers(row, col)\n",
    "                    continue\n",
    "                number = self.board[row][col]\n",
    "                blockNumber = (row // 3) * 3 + col // 3\n",
    "                self.rowVisitCache[row][number - 1]           = True\n",
    "                self.colVisitCache[col][number - 1]           = True\n",
    "                self.blockVisitCache[blockNumber][number - 1] = True\n",
    "    \n",
    "    def _solve(self):\n",
    "        if self.emptyCellsIndex == len(self.emptyCells):\n",
    "            return True\n",
    "        \n",
    "        row, col = self.emptyCells[self.emptyCellsIndex]\n",
    "        \n",
    "        # Guess number from 1 to 9\n",
    "        for guess in self.allowedNumbers[(row, col)]:\n",
    "            blockNumber = (row // 3) * 3 + col // 3\n",
    "            \n",
    "            # Validation: check if number can be inserted \n",
    "            if not (self.rowVisitCache[row][guess - 1] or self.colVisitCache[col][guess - 1] \\\n",
    "                    or self.blockVisitCache[blockNumber][guess - 1]):\n",
    "                # Mark number visited on that row, col, or block\n",
    "                self.rowVisitCache[row][guess - 1]           = True\n",
    "                self.colVisitCache[col][guess - 1]           = True\n",
    "                self.blockVisitCache[blockNumber][guess - 1] = True\n",
    "                \n",
    "                self.emptyCellsIndex += 1\n",
    "                self.board[row][col] = guess # if yes, put number in the cell\n",
    "                flag = self._solve() # Solve for another empty cell\n",
    "                if flag: # if solution is already found\n",
    "                    return flag\n",
    "                \n",
    "                self.board[row][col] = 0 # Remove to try another guess for possible solution\n",
    "                # Unmark number visited on that row, col, or block\n",
    "                self.rowVisitCache[row][guess - 1]           = False\n",
    "                self.colVisitCache[col][guess - 1]           = False\n",
    "                self.blockVisitCache[blockNumber][guess - 1] = False\n",
    "                self.emptyCellsIndex -= 1\n",
    "        \n",
    "        # If the current combination is not working, backtrack and try another number \n",
    "        return False\n",
    "    \n",
    "    def solveSudoku(self,):\n",
    "        self._scanBoard()\n",
    "        self._findAllEmptyCell()\n",
    "        flag = self._solve()\n",
    "        \n",
    "        if flag:\n",
    "            print(\"Solved Sudoku Grid:\")\n",
    "            print(np.matrix(self.board))\n",
    "        else:\n",
    "            print(\"Not a valid Sudoku puzzle\")"
   ]
  },
  {
   "cell_type": "code",
   "execution_count": 32,
   "id": "37dea300-b469-4594-b2b6-ef10fb646f4d",
   "metadata": {},
   "outputs": [
    {
     "name": "stdout",
     "output_type": "stream",
     "text": [
      "Solved Sudoku Grid:\n",
      "[[3 9 1 8 5 6 4 2 7]\n",
      " [8 6 7 2 3 4 9 1 5]\n",
      " [4 2 5 7 1 9 6 8 3]\n",
      " [7 5 4 9 6 8 1 3 2]\n",
      " [2 1 6 4 7 3 5 9 8]\n",
      " [9 3 8 5 2 1 7 6 4]\n",
      " [5 4 3 6 9 2 8 7 1]\n",
      " [6 7 2 1 8 5 3 4 9]\n",
      " [1 8 9 3 4 7 2 5 6]]\n",
      "Time taken: 0.0\n"
     ]
    }
   ],
   "source": [
    "start_time = time.monotonic()\n",
    "\n",
    "sudoku = OptimizedSudokuBacktrack2(copy.deepcopy(board))\n",
    "sudoku.solveSudoku()\n",
    "\n",
    "total_time = time.monotonic() - start_time\n",
    "print(\"Time taken:\", round(total_time, 5))"
   ]
  },
  {
   "cell_type": "code",
   "execution_count": 34,
   "id": "805b6e7c-0061-4801-9b53-e8396ba70c5f",
   "metadata": {},
   "outputs": [
    {
     "name": "stdout",
     "output_type": "stream",
     "text": [
      "Solved Sudoku Grid:\n",
      "[[2 4 5 9 8 1 3 7 6]\n",
      " [1 6 9 2 7 3 5 8 4]\n",
      " [8 3 7 5 6 4 2 1 9]\n",
      " [9 7 6 1 2 5 4 3 8]\n",
      " [5 1 3 4 9 8 6 2 7]\n",
      " [4 8 2 7 3 6 9 5 1]\n",
      " [3 9 1 6 5 7 8 4 2]\n",
      " [7 2 8 3 4 9 1 6 5]\n",
      " [6 5 4 8 1 2 7 9 3]]\n",
      "Time taken: 0.0\n"
     ]
    }
   ],
   "source": [
    "start_time = time.monotonic()\n",
    "\n",
    "sudoku = OptimizedSudokuBacktrack2(copy.deepcopy(board2))\n",
    "sudoku.solveSudoku()\n",
    "\n",
    "total_time = time.monotonic() - start_time\n",
    "print(\"Time taken:\", round(total_time, 5))"
   ]
  },
  {
   "cell_type": "code",
   "execution_count": 36,
   "id": "2b721cd7-90f2-4146-8b57-7aec7ab8e358",
   "metadata": {},
   "outputs": [
    {
     "name": "stdout",
     "output_type": "stream",
     "text": [
      "Solved Sudoku Grid:\n",
      "[[4 3 8 5 7 1 9 2 6]\n",
      " [2 7 6 8 4 9 3 1 5]\n",
      " [5 1 9 3 2 6 4 8 7]\n",
      " [3 5 7 4 9 8 2 6 1]\n",
      " [9 2 4 6 1 5 7 3 8]\n",
      " [6 8 1 7 3 2 5 9 4]\n",
      " [1 4 5 9 6 3 8 7 2]\n",
      " [8 6 3 2 5 7 1 4 9]\n",
      " [7 9 2 1 8 4 6 5 3]]\n",
      "Time taken: 0.016\n"
     ]
    }
   ],
   "source": [
    "start_time = time.monotonic()\n",
    "\n",
    "sudoku = OptimizedSudokuBacktrack2(copy.deepcopy(board3))\n",
    "sudoku.solveSudoku()\n",
    "\n",
    "total_time = time.monotonic() - start_time\n",
    "print(\"Time taken:\", round(total_time, 5))"
   ]
  },
  {
   "cell_type": "code",
   "execution_count": null,
   "id": "dac949ab-b589-4283-ad8d-d5067c8e278f",
   "metadata": {},
   "outputs": [],
   "source": []
  },
  {
   "cell_type": "markdown",
   "id": "257b3906-1ef7-4154-93ec-3c40bce3f92d",
   "metadata": {},
   "source": [
    "### Measuring Time"
   ]
  },
  {
   "cell_type": "code",
   "execution_count": 40,
   "id": "8f5756a6-50f2-4d5e-81c5-6d69b5b361ae",
   "metadata": {},
   "outputs": [],
   "source": [
    "class OptimizedSudokuBacktrack2():\n",
    "    def __init__(self, board):\n",
    "        self.board           = board\n",
    "        self.emptyCellsIndex = 0\n",
    "        self.emptyCells      =  []\n",
    "        self.rowVisitCache   = [[False for i in range(9)] for j in range(9)]\n",
    "        self.colVisitCache   = [[False for i in range(9)] for j in range(9)]\n",
    "        self.blockVisitCache = [[False for i in range(9)] for j in range(9)]\n",
    "        self.allowedNumbers  = {}\n",
    "    \n",
    "    def _findAllEmptyCell(self):\n",
    "        for row in range(9):\n",
    "            for col in range(9):\n",
    "                if self.board[row][col] == 0: # Empty cell found\n",
    "                    self.emptyCells.append((row, col))\n",
    "        return None, None\n",
    "    \n",
    "    def _finalAllowedNumbers(self, row, col):\n",
    "        allowedNumberList = []\n",
    "        for number in range(1, 10):\n",
    "            found = False\n",
    "            \n",
    "            # Check for number in rows and columns\n",
    "            for i in range(0, 9):\n",
    "                if self.board[row][i] == number or number == self.board[i][col]:\n",
    "                    found = True\n",
    "            \n",
    "            if not found:\n",
    "                # Check for number in current box\n",
    "                rowStart = (row // 3) * 3\n",
    "                colStart = (col // 3) * 3\n",
    "                for r in range(rowStart, rowStart + 3):\n",
    "                    for c in range(colStart, colStart + 3):\n",
    "                        if self.board[r][c] == number:\n",
    "                            found = True\n",
    "                            break\n",
    "                    if found:\n",
    "                        break\n",
    "\n",
    "            if not found:\n",
    "                allowedNumberList.append(number)\n",
    "        return allowedNumberList\n",
    "            \n",
    "    \n",
    "    def _scanBoard(self):\n",
    "        for row in range(0, 9):\n",
    "            for col in range(0, 9):\n",
    "                if self.board[row][col] == 0:\n",
    "                    self.allowedNumbers[(row, col)] = self._finalAllowedNumbers(row, col)\n",
    "                    continue\n",
    "                number = self.board[row][col]\n",
    "                blockNumber = (row // 3) * 3 + col // 3\n",
    "                self.rowVisitCache[row][number - 1]           = True\n",
    "                self.colVisitCache[col][number - 1]           = True\n",
    "                self.blockVisitCache[blockNumber][number - 1] = True\n",
    "    \n",
    "    def _solve(self):\n",
    "        if self.emptyCellsIndex == len(self.emptyCells):\n",
    "            return True\n",
    "        \n",
    "        row, col = self.emptyCells[self.emptyCellsIndex]\n",
    "        \n",
    "        # Guess number from 1 to 9\n",
    "        for guess in self.allowedNumbers[(row, col)]:\n",
    "            blockNumber = (row // 3) * 3 + col // 3\n",
    "            \n",
    "            # Validation: check if number can be inserted \n",
    "            if not (self.rowVisitCache[row][guess - 1] or self.colVisitCache[col][guess - 1] \\\n",
    "                    or self.blockVisitCache[blockNumber][guess - 1]):\n",
    "                # Mark number visited on that row, col, or block\n",
    "                self.rowVisitCache[row][guess - 1]           = True\n",
    "                self.colVisitCache[col][guess - 1]           = True\n",
    "                self.blockVisitCache[blockNumber][guess - 1] = True\n",
    "                \n",
    "                self.emptyCellsIndex += 1\n",
    "                self.board[row][col] = guess # if yes, put number in the cell\n",
    "                flag = self._solve() # Solve for another empty cell\n",
    "                if flag: # if solution is already found\n",
    "                    return flag\n",
    "                \n",
    "                self.board[row][col] = 0 # Remove to try another guess for possible solution\n",
    "                # Unmark number visited on that row, col, or block\n",
    "                self.rowVisitCache[row][guess - 1]           = False\n",
    "                self.colVisitCache[col][guess - 1]           = False\n",
    "                self.blockVisitCache[blockNumber][guess - 1] = False\n",
    "                self.emptyCellsIndex -= 1\n",
    "        \n",
    "        # If the current combination is not working, backtrack and try another number \n",
    "        return False\n",
    "    \n",
    "    def solveSudoku(self,):\n",
    "        self._scanBoard()\n",
    "        self._findAllEmptyCell()\n",
    "        self._solve()\n"
   ]
  },
  {
   "cell_type": "code",
   "execution_count": 42,
   "id": "f1d3b8ba-3fd9-46b7-99ca-6711e0ecdfb0",
   "metadata": {},
   "outputs": [
    {
     "name": "stdout",
     "output_type": "stream",
     "text": [
      "[57.75594359999923]\n"
     ]
    }
   ],
   "source": [
    "setup = '''\n",
    "import numpy as np\n",
    "import copy\n",
    "from __main__ import OptimizedSudokuBacktrack2, board\n",
    "'''\n",
    "code = '''\n",
    "sudoku = OptimizedSudokuBacktrack2(copy.deepcopy(board))\n",
    "sudoku.solveSudoku()\n",
    "'''\n",
    "\n",
    "executionTime = timeit.repeat(setup = setup,\n",
    "                              stmt = code,\n",
    "                              repeat = 1,\n",
    "                              number = 10000)\n",
    "print(executionTime)"
   ]
  },
  {
   "cell_type": "code",
   "execution_count": 43,
   "id": "7c5c4782-d303-40b8-ab23-38dceda1c6f4",
   "metadata": {},
   "outputs": [
    {
     "name": "stdout",
     "output_type": "stream",
     "text": [
      "[19.96063359999971]\n"
     ]
    }
   ],
   "source": [
    "setup = '''\n",
    "import numpy as np\n",
    "import copy\n",
    "from __main__ import OptimizedSudokuBacktrack2, board2\n",
    "'''\n",
    "code = '''\n",
    "sudoku = OptimizedSudokuBacktrack2(copy.deepcopy(board2))\n",
    "sudoku.solveSudoku()\n",
    "'''\n",
    "\n",
    "executionTime = timeit.repeat(setup = setup,\n",
    "                              stmt = code,\n",
    "                              repeat = 1,\n",
    "                              number = 10000)\n",
    "print(executionTime)"
   ]
  },
  {
   "cell_type": "code",
   "execution_count": 44,
   "id": "44e9f9dd-97b0-483c-87b6-d09cf1a0c956",
   "metadata": {},
   "outputs": [
    {
     "name": "stdout",
     "output_type": "stream",
     "text": [
      "[11.59771560000081]\n"
     ]
    }
   ],
   "source": [
    "setup = '''\n",
    "import numpy as np\n",
    "import copy\n",
    "from __main__ import OptimizedSudokuBacktrack2, board3\n",
    "'''\n",
    "code = '''\n",
    "sudoku = OptimizedSudokuBacktrack2(copy.deepcopy(board3))\n",
    "sudoku.solveSudoku()\n",
    "'''\n",
    "\n",
    "executionTime = timeit.repeat(setup = setup,\n",
    "                              stmt = code,\n",
    "                              repeat = 1,\n",
    "                              number = 10000)\n",
    "print(executionTime)"
   ]
  },
  {
   "cell_type": "code",
   "execution_count": null,
   "id": "2ef4abcf-532f-4e7b-9ac0-9c45197390a8",
   "metadata": {},
   "outputs": [],
   "source": []
  }
 ],
 "metadata": {
  "kernelspec": {
   "display_name": "Python 3 (ipykernel)",
   "language": "python",
   "name": "python3"
  },
  "language_info": {
   "codemirror_mode": {
    "name": "ipython",
    "version": 3
   },
   "file_extension": ".py",
   "mimetype": "text/x-python",
   "name": "python",
   "nbconvert_exporter": "python",
   "pygments_lexer": "ipython3",
   "version": "3.9.12"
  }
 },
 "nbformat": 4,
 "nbformat_minor": 5
}
